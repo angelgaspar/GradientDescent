{
  "nbformat": 4,
  "nbformat_minor": 0,
  "metadata": {
    "colab": {
      "name": "GradientDescent.ipynb",
      "provenance": [],
      "collapsed_sections": []
    },
    "kernelspec": {
      "name": "python3",
      "display_name": "Python 3"
    }
  },
  "cells": [
    {
      "cell_type": "code",
      "metadata": {
        "id": "5msoEYuDTNxh",
        "colab_type": "code",
        "colab": {}
      },
      "source": [
        "# Importamos los módulos a usar.\n",
        "import numpy as np\n",
        "import matplotlib.pyplot as plt\n",
        "%matplotlib inline"
      ],
      "execution_count": 1,
      "outputs": []
    },
    {
      "cell_type": "code",
      "metadata": {
        "id": "GlKBM1a4TUQB",
        "colab_type": "code",
        "colab": {
          "base_uri": "https://localhost:8080/",
          "height": 265
        },
        "outputId": "fd50bde8-9f65-41f3-90d5-2d4a47de3dca"
      },
      "source": [
        "# Creamos la función a optimizar y la mostramos.\n",
        "function = lambda x: x**2\n",
        "x = np.linspace(-10,10,500)\n",
        "plt.plot(x, function(x))\n",
        "plt.show()"
      ],
      "execution_count": 2,
      "outputs": [
        {
          "output_type": "display_data",
          "data": {
            "image/png": "[encoded data removed]",
            "text/plain": [
              "<Figure size 432x288 with 1 Axes>"
            ]
          },
          "metadata": {
            "tags": [],
            "needs_background": "light"
          }
        }
      ]
    },
    {
      "cell_type": "code",
      "metadata": {
        "id": "wqdJ20IsbbNQ",
        "colab_type": "code",
        "colab": {}
      },
      "source": [
        "# Creamos la función de la derivada de x.\n",
        "def deriv(x):\n",
        "\n",
        "    x_deriv = 2*x\n",
        "    return x_deriv\n",
        "\n",
        "# Creamos la función del gradiente\n",
        "def gradient(x_start, precision, l_r):\n",
        "\n",
        "    ''' \n",
        "    Creamos 2 listas donde los valores actualizados de x e y serán agregados\n",
        "    durante cada interación para poder visualizarlos más adelante. \n",
        "    \n",
        "    '''\n",
        "\n",
        "    x_list, y_list = [x_start], [function(x_start)]\n",
        "\n",
        "    # Se realiza un bucle While\n",
        "\n",
        "    while True:\n",
        "\n",
        "        ''' \n",
        "        Obtenemos el valor de la pendiente de la derivada\n",
        "        dado que necesitamos un descenso negativo (hacia el mínimo)\n",
        "        usamos el '-'\n",
        "\n",
        "        '''\n",
        "\n",
        "        d_x = - deriv(x_start)\n",
        "        \n",
        "        # Obtenemos el nuevo valor de x sumando el valor previo de x más la multiplicación del l_r por la derivada.\n",
        "        x_start += (l_r * d_x)\n",
        "        \n",
        "        # Agregamos el nuevo valor de x a la lista para posteriormente visualizarlo.\n",
        "        x_list.append(x_start)\n",
        "        \n",
        "        # Agregamos el nuevo valor de y a la lista para posteriormente visualizarlo.\n",
        "        y_list.append(function(x_start))\n",
        "\n",
        "        # Salimos del bucle cuando se cumpla la condición.\n",
        "        if abs(x_list[-1] - x_list[-2]) <= precision:\n",
        "            break\n",
        "\n",
        "    # Visualizamos los resultados.   \n",
        "\n",
        "    print (\"El mínimo local se produce en: \"+ str(x_start))\n",
        "    print (\"Número de pasos: \" + str(len(x_list)))\n",
        "    \n",
        "    plt.subplot(1,2,2)\n",
        "    plt.scatter(x_list,y_list,c=\"g\")\n",
        "    plt.plot(x_list,y_list,c=\"g\")\n",
        "    plt.plot(x,function(x), c=\"r\")\n",
        "    plt.title(\"El descenso del gradiente\")\n",
        "    plt.show()"
      ],
      "execution_count": 3,
      "outputs": []
    },
    {
      "cell_type": "code",
      "metadata": {
        "id": "0UcW_7aBdEFv",
        "colab_type": "code",
        "colab": {
          "base_uri": "https://localhost:8080/",
          "height": 315
        },
        "outputId": "f08152f1-fa8f-46a4-b6bc-b3c78ce30149"
      },
      "source": [
        "gradient(-10, 0.001, 0.05)"
      ],
      "execution_count": 4,
      "outputs": [
        {
          "output_type": "stream",
          "text": [
            "El mínimo local se produce en: -0.008595044557171418\n",
            "Numbero de pasos: 68\n"
          ],
          "name": "stdout"
        },
        {
          "output_type": "display_data",
          "data": {
            "image/png": "[encoded data removed]",
            "text/plain": [
              "<Figure size 432x288 with 1 Axes>"
            ]
          },
          "metadata": {
            "tags": [],
            "needs_background": "light"
          }
        }
      ]
    }
  ]
}
